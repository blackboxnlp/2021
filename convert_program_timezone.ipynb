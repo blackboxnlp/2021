{
 "cells": [
  {
   "cell_type": "code",
   "execution_count": 1,
   "id": "b057f0cf",
   "metadata": {},
   "outputs": [],
   "source": [
    "from datetime import datetime\n",
    "import pytz\n"
   ]
  },
  {
   "cell_type": "code",
   "execution_count": 2,
   "id": "1d2dd2f5",
   "metadata": {},
   "outputs": [],
   "source": [
    "s = \"**02:00 - 02:15** Opening remarks. Zoom.  \\n**02:15 - 03:00** Keynote 1 (w/ Q&A): Willem Zuidema. Zoom.  \\n**03:00 - 03:15** Break.  \\n**03:15 - 04:00** Oral presentation session 1 (w/ Q&A). Zoom.  \\n**04:00 - 04:30** Break.  \\n**04:30 - 06:00** Poster session 1. Gather.town.  \\n**06:00 - 06:15** Break.  \\n**06:15 - 07:00** Oral presentation session 2 (w/ Q&A). Zoom.  \\n**07:00 - 07:30** Break.         \\n**07:30 - 08:00** Keynote 2 (w/o Q&A): Ana Marasović. Zoom.  \\n**08:00 - 08:30** Keynote 3 (w/o Q&A): Sara Hooker. Zoom.  \\n**08:30 - 08:45** Closing -- virtual program. Zoom.  \\n**Break. Hybrid program starts.**   \\n**09:00 - 09:15** Opening remarks and best paper award. On-site & Zoom.   \\n**09:15 - 10:00** Keynote 4 (w/ Q&A): Willem Zuidema. On-site & Zoom.   \\n**10:00 - 10:30** Oral presentation session 3 (w/ Q&A). On-site & Zoom.   \\n**10:30 - 11:00** Coffee break.  \\n**11:00 - 12:00** Poster session 2. Gather.town.   \\n**12:00 - 13:00** Lunch break.   \\n**13:00 - 13:45** Keynote 5 (w/ Q&A): Sara Hooker. On-site & Zoom.   \\n**13:45 - 14:15** Oral presentation session 4 (w/ Q&A). On-site & Zoom.   \\n**14:15 - 14:45** Coffee break.  \\n**14:45 - 16:15** Poster session 3. On-site & Gather.town.  \\n**16:15 - 14:45** Coffee break.  \\n**16:45 - 17:15** Oral presentation session 5 (w/ Q&A). On-site & Zoom.  \\n**17:15 - 18:00** Keynote 6 (w/ Q&A): Ana Marasović. On-site & Zoom.  \\n**18:00 - 18:15** Closing remarks. On-site & Zoom.  \"\n"
   ]
  },
  {
   "cell_type": "code",
   "execution_count": 3,
   "id": "044e7655",
   "metadata": {},
   "outputs": [
    {
     "name": "stdout",
     "output_type": "stream",
     "text": [
      "**02:00 - 02:15** Opening remarks. Zoom.  \n",
      "**02:15 - 03:00** Keynote 1 (w/ Q&A): Willem Zuidema. Zoom.  \n",
      "**03:00 - 03:15** Break.  \n",
      "**03:15 - 04:00** Oral presentation session 1 (w/ Q&A). Zoom.  \n",
      "**04:00 - 04:30** Break.  \n",
      "**04:30 - 06:00** Poster session 1. Gather.town.  \n",
      "**06:00 - 06:15** Break.  \n",
      "**06:15 - 07:00** Oral presentation session 2 (w/ Q&A). Zoom.  \n",
      "**07:00 - 07:30** Break.         \n",
      "**07:30 - 08:00** Keynote 2 (w/o Q&A): Ana Marasović. Zoom.  \n",
      "**08:00 - 08:30** Keynote 3 (w/o Q&A): Sara Hooker. Zoom.  \n",
      "**08:30 - 08:45** Closing -- virtual program. Zoom.  \n",
      "**Break. Hybrid program starts.**   \n",
      "**09:00 - 09:15** Opening remarks and best paper award. On-site & Zoom.   \n",
      "**09:15 - 10:00** Keynote 4 (w/ Q&A): Willem Zuidema. On-site & Zoom.   \n",
      "**10:00 - 10:30** Oral presentation session 3 (w/ Q&A). On-site & Zoom.   \n",
      "**10:30 - 11:00** Coffee break.  \n",
      "**11:00 - 12:00** Poster session 2. Gather.town.   \n",
      "**12:00 - 13:00** Lunch break.   \n",
      "**13:00 - 13:45** Keynote 5 (w/ Q&A): Sara Hooker. On-site & Zoom.   \n",
      "**13:45 - 14:15** Oral presentation session 4 (w/ Q&A). On-site & Zoom.   \n",
      "**14:15 - 14:45** Coffee break.  \n",
      "**14:45 - 16:15** Poster session 3. On-site & Gather.town.  \n",
      "**16:15 - 14:45** Coffee break.  \n",
      "**16:45 - 17:15** Oral presentation session 5 (w/ Q&A). On-site & Zoom.  \n",
      "**17:15 - 18:00** Keynote 6 (w/ Q&A): Ana Marasović. On-site & Zoom.  \n",
      "**18:00 - 18:15** Closing remarks. On-site & Zoom.  \n"
     ]
    }
   ],
   "source": [
    "print(s)"
   ]
  },
  {
   "cell_type": "code",
   "execution_count": 4,
   "id": "89012edd",
   "metadata": {},
   "outputs": [],
   "source": [
    "localFormat = \"%Y-%m-%d %H:%M\"\n",
    "printFormat = \"%H:%M\"\n",
    "localtimezone = pytz.timezone('America/Dominica')\n",
    "\n",
    "out = ''\n",
    "for line in s.split('\\n'):\n",
    "    _, time, text = line.split('**')\n",
    "    \n",
    "    time = time.strip()\n",
    "    text = text.strip()\n",
    "    if not text:\n",
    "        break_line = time\n",
    "        out += '{}  \\n'.format(break_line)\n",
    "        continue\n",
    "        \n",
    "    start, end = time.split(' - ')\n",
    "    start_pc = datetime.strptime('2021-11-11 {}'.format(start), localFormat)\n",
    "    end_pc = datetime.strptime('2021-11-11 {}'.format(end), localFormat)\n",
    "    \n",
    "    start_pc = localtimezone.localize(start_pc, is_dst=None)\n",
    "    end_pc = localtimezone.localize(end_pc, is_dst=None)\n",
    "    \n",
    "    start_wc = start_pc.astimezone(pytz.timezone('America/Los_Angeles'))\n",
    "    end_wc = end_pc.astimezone(pytz.timezone('America/Los_Angeles'))\n",
    "    \n",
    "    start_utc = start_pc.astimezone(pytz.utc)\n",
    "    end_utc = end_pc.astimezone(pytz.utc)\n",
    "\n",
    "    start_ch = start_pc.astimezone(pytz.timezone('Asia/Hong_Kong'))\n",
    "    end_ch = end_pc.astimezone(pytz.timezone('Asia/Hong_Kong'))\n",
    "    \n",
    "    new_line = \"**{} - {} | {} - {} | {} - {} | {} - {}** {}  \\n\".format(\n",
    "        start_wc.strftime(printFormat), end_wc.strftime(printFormat),\n",
    "        start_pc.strftime(printFormat), end_pc.strftime(printFormat),\n",
    "        start_utc.strftime(printFormat), end_utc.strftime(printFormat),\n",
    "        start_ch.strftime(printFormat), end_ch.strftime(printFormat),\n",
    "        text\n",
    "    )\n",
    "\n",
    "    out += new_line"
   ]
  },
  {
   "cell_type": "code",
   "execution_count": 5,
   "id": "17e0fcb1",
   "metadata": {},
   "outputs": [
    {
     "name": "stdout",
     "output_type": "stream",
     "text": [
      "**22:00 - 22:15 | 02:00 - 02:15 | 06:00 - 06:15 | 14:00 - 14:15** Opening remarks. Zoom.  \n",
      "**22:15 - 23:00 | 02:15 - 03:00 | 06:15 - 07:00 | 14:15 - 15:00** Keynote 1 (w/ Q&A): Willem Zuidema. Zoom.  \n",
      "**23:00 - 23:15 | 03:00 - 03:15 | 07:00 - 07:15 | 15:00 - 15:15** Break.  \n",
      "**23:15 - 00:00 | 03:15 - 04:00 | 07:15 - 08:00 | 15:15 - 16:00** Oral presentation session 1 (w/ Q&A). Zoom.  \n",
      "**00:00 - 00:30 | 04:00 - 04:30 | 08:00 - 08:30 | 16:00 - 16:30** Break.  \n",
      "**00:30 - 02:00 | 04:30 - 06:00 | 08:30 - 10:00 | 16:30 - 18:00** Poster session 1. Gather.town.  \n",
      "**02:00 - 02:15 | 06:00 - 06:15 | 10:00 - 10:15 | 18:00 - 18:15** Break.  \n",
      "**02:15 - 03:00 | 06:15 - 07:00 | 10:15 - 11:00 | 18:15 - 19:00** Oral presentation session 2 (w/ Q&A). Zoom.  \n",
      "**03:00 - 03:30 | 07:00 - 07:30 | 11:00 - 11:30 | 19:00 - 19:30** Break.  \n",
      "**03:30 - 04:00 | 07:30 - 08:00 | 11:30 - 12:00 | 19:30 - 20:00** Keynote 2 (w/o Q&A): Ana Marasović. Zoom.  \n",
      "**04:00 - 04:30 | 08:00 - 08:30 | 12:00 - 12:30 | 20:00 - 20:30** Keynote 3 (w/o Q&A): Sara Hooker. Zoom.  \n",
      "**04:30 - 04:45 | 08:30 - 08:45 | 12:30 - 12:45 | 20:30 - 20:45** Closing -- virtual program. Zoom.  \n",
      "Break. Hybrid program starts.  \n",
      "**05:00 - 05:15 | 09:00 - 09:15 | 13:00 - 13:15 | 21:00 - 21:15** Opening remarks and best paper award. On-site & Zoom.  \n",
      "**05:15 - 06:00 | 09:15 - 10:00 | 13:15 - 14:00 | 21:15 - 22:00** Keynote 4 (w/ Q&A): Willem Zuidema. On-site & Zoom.  \n",
      "**06:00 - 06:30 | 10:00 - 10:30 | 14:00 - 14:30 | 22:00 - 22:30** Oral presentation session 3 (w/ Q&A). On-site & Zoom.  \n",
      "**06:30 - 07:00 | 10:30 - 11:00 | 14:30 - 15:00 | 22:30 - 23:00** Coffee break.  \n",
      "**07:00 - 08:00 | 11:00 - 12:00 | 15:00 - 16:00 | 23:00 - 00:00** Poster session 2. Gather.town.  \n",
      "**08:00 - 09:00 | 12:00 - 13:00 | 16:00 - 17:00 | 00:00 - 01:00** Lunch break.  \n",
      "**09:00 - 09:45 | 13:00 - 13:45 | 17:00 - 17:45 | 01:00 - 01:45** Keynote 5 (w/ Q&A): Sara Hooker. On-site & Zoom.  \n",
      "**09:45 - 10:15 | 13:45 - 14:15 | 17:45 - 18:15 | 01:45 - 02:15** Oral presentation session 4 (w/ Q&A). On-site & Zoom.  \n",
      "**10:15 - 10:45 | 14:15 - 14:45 | 18:15 - 18:45 | 02:15 - 02:45** Coffee break.  \n",
      "**10:45 - 12:15 | 14:45 - 16:15 | 18:45 - 20:15 | 02:45 - 04:15** Poster session 3. On-site & Gather.town.  \n",
      "**12:15 - 10:45 | 16:15 - 14:45 | 20:15 - 18:45 | 04:15 - 02:45** Coffee break.  \n",
      "**12:45 - 13:15 | 16:45 - 17:15 | 20:45 - 21:15 | 04:45 - 05:15** Oral presentation session 5 (w/ Q&A). On-site & Zoom.  \n",
      "**13:15 - 14:00 | 17:15 - 18:00 | 21:15 - 22:00 | 05:15 - 06:00** Keynote 6 (w/ Q&A): Ana Marasović. On-site & Zoom.  \n",
      "**14:00 - 14:15 | 18:00 - 18:15 | 22:00 - 22:15 | 06:00 - 06:15** Closing remarks. On-site & Zoom.  \n",
      "\n"
     ]
    }
   ],
   "source": [
    "print(out)"
   ]
  },
  {
   "cell_type": "code",
   "execution_count": null,
   "id": "d4ae04c4",
   "metadata": {},
   "outputs": [],
   "source": []
  }
 ],
 "metadata": {
  "kernelspec": {
   "display_name": "Python 3",
   "language": "python",
   "name": "python3"
  },
  "language_info": {
   "codemirror_mode": {
    "name": "ipython",
    "version": 3
   },
   "file_extension": ".py",
   "mimetype": "text/x-python",
   "name": "python",
   "nbconvert_exporter": "python",
   "pygments_lexer": "ipython3",
   "version": "3.8.5"
  }
 },
 "nbformat": 4,
 "nbformat_minor": 5
}
